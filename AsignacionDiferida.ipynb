{
  "nbformat": 4,
  "nbformat_minor": 0,
  "metadata": {
    "colab": {
      "provenance": [],
      "authorship_tag": "ABX9TyM2JP9P0w3szDaMtSGuzHYR",
      "include_colab_link": true
    },
    "kernelspec": {
      "name": "python3",
      "display_name": "Python 3"
    },
    "language_info": {
      "name": "python"
    }
  },
  "cells": [
    {
      "cell_type": "markdown",
      "metadata": {
        "id": "view-in-github",
        "colab_type": "text"
      },
      "source": [
        "<a href=\"https://colab.research.google.com/github/SantiagoTorresM/DA/blob/main/AsignacionDiferida.ipynb\" target=\"_parent\"><img src=\"https://colab.research.google.com/assets/colab-badge.svg\" alt=\"Open In Colab\"/></a>"
      ]
    },
    {
      "cell_type": "code",
      "execution_count": 1,
      "metadata": {
        "id": "N_oljhpabQtl",
        "outputId": "4d72fb7b-eada-4889-ad01-b3006cc3a18a",
        "colab": {
          "base_uri": "https://localhost:8080/"
        }
      },
      "outputs": [
        {
          "output_type": "stream",
          "name": "stdout",
          "text": [
            "{'X': 'Alice', 'Y': 'Bob', 'Z': 'Charlie'}\n"
          ]
        }
      ],
      "source": [
        "def gale_shapley(participants_prefs, institutions_prefs):\n",
        "    # Inicializar todos los participantes como libres\n",
        "    free_participants = list(participants_prefs.keys())\n",
        "    # Emparejamientos, al principio nadie está emparejado\n",
        "    pairings = {}\n",
        "\n",
        "    while free_participants:\n",
        "        # Tomar un participante libre\n",
        "        participant = free_participants[0]\n",
        "\n",
        "        # Obtener la lista de preferencias del participante\n",
        "        prefs = participants_prefs[participant]\n",
        "\n",
        "        for institution in prefs:\n",
        "            # Si la institución no tiene pareja, hacer el emparejamiento\n",
        "            if institution not in pairings:\n",
        "                pairings[institution] = participant\n",
        "                free_participants.remove(participant)\n",
        "                break\n",
        "            else:\n",
        "                # Si la institución prefiere a este participante sobre su pareja actual\n",
        "                current_partner = pairings[institution]\n",
        "                if institutions_prefs[institution].index(participant) < institutions_prefs[institution].index(current_partner):\n",
        "                    pairings[institution] = participant\n",
        "                    free_participants.remove(participant)\n",
        "                    free_participants.append(current_partner)\n",
        "                    break\n",
        "    return pairings\n",
        "\n",
        "# Ejemplo de listas de preferencias\n",
        "participants_prefs = {\n",
        "    \"Alice\": [\"X\", \"Y\", \"Z\"],\n",
        "    \"Bob\": [\"Y\", \"X\", \"Z\"],\n",
        "    \"Charlie\": [\"Y\", \"Z\", \"X\"]\n",
        "}\n",
        "\n",
        "institutions_prefs = {\n",
        "    \"X\": [\"Alice\", \"Bob\", \"Charlie\"],\n",
        "    \"Y\": [\"Bob\", \"Alice\", \"Charlie\"],\n",
        "    \"Z\": [\"Charlie\", \"Alice\", \"Bob\"]\n",
        "}\n",
        "\n",
        "# Ejecutar el algoritmo\n",
        "pairings = gale_shapley(participants_prefs, institutions_prefs)\n",
        "print(pairings)\n"
      ]
    }
  ]
}